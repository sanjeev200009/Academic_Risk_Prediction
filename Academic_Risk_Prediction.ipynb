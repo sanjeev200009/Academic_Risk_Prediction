{
  "nbformat": 4,
  "nbformat_minor": 0,
  "metadata": {
    "colab": {
      "provenance": [],
      "authorship_tag": "ABX9TyORtMZNLzV1DhvP05GaKP9j",
      "include_colab_link": true
    },
    "kernelspec": {
      "name": "python3",
      "display_name": "Python 3"
    },
    "language_info": {
      "name": "python"
    }
  },
  "cells": [
    {
      "cell_type": "markdown",
      "metadata": {
        "id": "view-in-github",
        "colab_type": "text"
      },
      "source": [
        "<a href=\"https://colab.research.google.com/github/sanjeev200009/Academic_Risk_Prediction/blob/main/Academic_Risk_Prediction.ipynb\" target=\"_parent\"><img src=\"https://colab.research.google.com/assets/colab-badge.svg\" alt=\"Open In Colab\"/></a>"
      ]
    },
    {
      "cell_type": "code",
      "execution_count": 34,
      "metadata": {
        "colab": {
          "base_uri": "https://localhost:8080/"
        },
        "id": "PQVjI18ioJaZ",
        "outputId": "11a56548-9a8b-4ba0-8a8a-a345df820c59"
      },
      "outputs": [
        {
          "output_type": "stream",
          "name": "stdout",
          "text": [
            "Requirement already satisfied: pandas in /usr/local/lib/python3.11/dist-packages (2.2.2)\n",
            "Requirement already satisfied: scikit-learn in /usr/local/lib/python3.11/dist-packages (1.6.1)\n",
            "Requirement already satisfied: numpy in /usr/local/lib/python3.11/dist-packages (2.0.2)\n",
            "Requirement already satisfied: matplotlib in /usr/local/lib/python3.11/dist-packages (3.10.0)\n",
            "Requirement already satisfied: seaborn in /usr/local/lib/python3.11/dist-packages (0.13.2)\n",
            "Requirement already satisfied: streamlit in /usr/local/lib/python3.11/dist-packages (1.47.0)\n",
            "Requirement already satisfied: joblib in /usr/local/lib/python3.11/dist-packages (1.5.1)\n",
            "Requirement already satisfied: python-dateutil>=2.8.2 in /usr/local/lib/python3.11/dist-packages (from pandas) (2.9.0.post0)\n",
            "Requirement already satisfied: pytz>=2020.1 in /usr/local/lib/python3.11/dist-packages (from pandas) (2025.2)\n",
            "Requirement already satisfied: tzdata>=2022.7 in /usr/local/lib/python3.11/dist-packages (from pandas) (2025.2)\n",
            "Requirement already satisfied: scipy>=1.6.0 in /usr/local/lib/python3.11/dist-packages (from scikit-learn) (1.15.3)\n",
            "Requirement already satisfied: threadpoolctl>=3.1.0 in /usr/local/lib/python3.11/dist-packages (from scikit-learn) (3.6.0)\n",
            "Requirement already satisfied: contourpy>=1.0.1 in /usr/local/lib/python3.11/dist-packages (from matplotlib) (1.3.2)\n",
            "Requirement already satisfied: cycler>=0.10 in /usr/local/lib/python3.11/dist-packages (from matplotlib) (0.12.1)\n",
            "Requirement already satisfied: fonttools>=4.22.0 in /usr/local/lib/python3.11/dist-packages (from matplotlib) (4.58.5)\n",
            "Requirement already satisfied: kiwisolver>=1.3.1 in /usr/local/lib/python3.11/dist-packages (from matplotlib) (1.4.8)\n",
            "Requirement already satisfied: packaging>=20.0 in /usr/local/lib/python3.11/dist-packages (from matplotlib) (25.0)\n",
            "Requirement already satisfied: pillow>=8 in /usr/local/lib/python3.11/dist-packages (from matplotlib) (11.2.1)\n",
            "Requirement already satisfied: pyparsing>=2.3.1 in /usr/local/lib/python3.11/dist-packages (from matplotlib) (3.2.3)\n",
            "Requirement already satisfied: altair<6,>=4.0 in /usr/local/lib/python3.11/dist-packages (from streamlit) (5.5.0)\n",
            "Requirement already satisfied: blinker<2,>=1.5.0 in /usr/local/lib/python3.11/dist-packages (from streamlit) (1.9.0)\n",
            "Requirement already satisfied: cachetools<7,>=4.0 in /usr/local/lib/python3.11/dist-packages (from streamlit) (5.5.2)\n",
            "Requirement already satisfied: click<9,>=7.0 in /usr/local/lib/python3.11/dist-packages (from streamlit) (8.2.1)\n",
            "Requirement already satisfied: protobuf<7,>=3.20 in /usr/local/lib/python3.11/dist-packages (from streamlit) (5.29.5)\n",
            "Requirement already satisfied: pyarrow>=7.0 in /usr/local/lib/python3.11/dist-packages (from streamlit) (18.1.0)\n",
            "Requirement already satisfied: requests<3,>=2.27 in /usr/local/lib/python3.11/dist-packages (from streamlit) (2.32.3)\n",
            "Requirement already satisfied: tenacity<10,>=8.1.0 in /usr/local/lib/python3.11/dist-packages (from streamlit) (8.5.0)\n",
            "Requirement already satisfied: toml<2,>=0.10.1 in /usr/local/lib/python3.11/dist-packages (from streamlit) (0.10.2)\n",
            "Requirement already satisfied: typing-extensions<5,>=4.4.0 in /usr/local/lib/python3.11/dist-packages (from streamlit) (4.14.1)\n",
            "Requirement already satisfied: watchdog<7,>=2.1.5 in /usr/local/lib/python3.11/dist-packages (from streamlit) (6.0.0)\n",
            "Requirement already satisfied: gitpython!=3.1.19,<4,>=3.0.7 in /usr/local/lib/python3.11/dist-packages (from streamlit) (3.1.44)\n",
            "Requirement already satisfied: pydeck<1,>=0.8.0b4 in /usr/local/lib/python3.11/dist-packages (from streamlit) (0.9.1)\n",
            "Requirement already satisfied: tornado!=6.5.0,<7,>=6.0.3 in /usr/local/lib/python3.11/dist-packages (from streamlit) (6.4.2)\n",
            "Requirement already satisfied: jinja2 in /usr/local/lib/python3.11/dist-packages (from altair<6,>=4.0->streamlit) (3.1.6)\n",
            "Requirement already satisfied: jsonschema>=3.0 in /usr/local/lib/python3.11/dist-packages (from altair<6,>=4.0->streamlit) (4.24.0)\n",
            "Requirement already satisfied: narwhals>=1.14.2 in /usr/local/lib/python3.11/dist-packages (from altair<6,>=4.0->streamlit) (1.47.0)\n",
            "Requirement already satisfied: gitdb<5,>=4.0.1 in /usr/local/lib/python3.11/dist-packages (from gitpython!=3.1.19,<4,>=3.0.7->streamlit) (4.0.12)\n",
            "Requirement already satisfied: six>=1.5 in /usr/local/lib/python3.11/dist-packages (from python-dateutil>=2.8.2->pandas) (1.17.0)\n",
            "Requirement already satisfied: charset-normalizer<4,>=2 in /usr/local/lib/python3.11/dist-packages (from requests<3,>=2.27->streamlit) (3.4.2)\n",
            "Requirement already satisfied: idna<4,>=2.5 in /usr/local/lib/python3.11/dist-packages (from requests<3,>=2.27->streamlit) (3.10)\n",
            "Requirement already satisfied: urllib3<3,>=1.21.1 in /usr/local/lib/python3.11/dist-packages (from requests<3,>=2.27->streamlit) (2.4.0)\n",
            "Requirement already satisfied: certifi>=2017.4.17 in /usr/local/lib/python3.11/dist-packages (from requests<3,>=2.27->streamlit) (2025.7.14)\n",
            "Requirement already satisfied: smmap<6,>=3.0.1 in /usr/local/lib/python3.11/dist-packages (from gitdb<5,>=4.0.1->gitpython!=3.1.19,<4,>=3.0.7->streamlit) (5.0.2)\n",
            "Requirement already satisfied: MarkupSafe>=2.0 in /usr/local/lib/python3.11/dist-packages (from jinja2->altair<6,>=4.0->streamlit) (3.0.2)\n",
            "Requirement already satisfied: attrs>=22.2.0 in /usr/local/lib/python3.11/dist-packages (from jsonschema>=3.0->altair<6,>=4.0->streamlit) (25.3.0)\n",
            "Requirement already satisfied: jsonschema-specifications>=2023.03.6 in /usr/local/lib/python3.11/dist-packages (from jsonschema>=3.0->altair<6,>=4.0->streamlit) (2025.4.1)\n",
            "Requirement already satisfied: referencing>=0.28.4 in /usr/local/lib/python3.11/dist-packages (from jsonschema>=3.0->altair<6,>=4.0->streamlit) (0.36.2)\n",
            "Requirement already satisfied: rpds-py>=0.7.1 in /usr/local/lib/python3.11/dist-packages (from jsonschema>=3.0->altair<6,>=4.0->streamlit) (0.26.0)\n"
          ]
        }
      ],
      "source": [
        "# Step 1: Install required packages\n",
        "!pip install pandas scikit-learn numpy matplotlib seaborn streamlit joblib"
      ]
    },
    {
      "cell_type": "code",
      "source": [
        "# Step 2: Import libraries\n",
        "import pandas as pd\n",
        "import numpy as np\n",
        "import matplotlib.pyplot as plt\n",
        "import seaborn as sns\n",
        "from sklearn.model_selection import train_test_split\n",
        "from sklearn.preprocessing import LabelEncoder, StandardScaler\n",
        "from sklearn.ensemble import RandomForestClassifier\n",
        "from sklearn.tree import DecisionTreeClassifier\n",
        "from sklearn.linear_model import LogisticRegression\n",
        "from sklearn.metrics import accuracy_score, precision_score, recall_score, f1_score, confusion_matrix\n",
        "from joblib import dump, load\n",
        "import streamlit as st\n",
        "import os\n",
        "import zipfile\n",
        "\n",
        "# Install pyngrok if not already installed\n",
        "!pip install pyngrok --quiet\n",
        "from pyngrok import ngrok"
      ],
      "metadata": {
        "id": "YNtO_ELooz8x"
      },
      "execution_count": 35,
      "outputs": []
    },
    {
      "cell_type": "code",
      "source": [
        "# Step 3: Load and preprocess data\n",
        "def load_and_preprocess_data():\n",
        "    # Load UCI Student Performance Dataset\n",
        "    url = \"https://archive.ics.uci.edu/ml/machine-learning-databases/00320/student.zip\"\n",
        "    !wget {url}\n",
        "    !unzip student.zip\n",
        "\n",
        "    # Read data\n",
        "    math_df = pd.read_csv('student-mat.csv', sep=';')\n",
        "    portuguese_df = pd.read_csv('student-por.csv', sep=';')\n",
        "\n",
        "    # Combine datasets and remove duplicates\n",
        "    combined_df = pd.concat([math_df, portuguese_df]).drop_duplicates(keep='first')\n",
        "    return combined_df\n"
      ],
      "metadata": {
        "id": "uXJWybVyo50g"
      },
      "execution_count": 36,
      "outputs": []
    },
    {
      "cell_type": "code",
      "source": [
        "# Step 4: Feature engineering for Sri Lankan context\n",
        "def sri_lankan_feature_engineering(df):\n",
        "    # Simulate Sri Lankan-specific attributes\n",
        "    np.random.seed(42)\n",
        "\n",
        "    # Add region (Urban, Rural, Estate)\n",
        "    regions = ['Urban', 'Rural', 'Estate']\n",
        "    df['region'] = np.random.choice(regions, size=len(df), p=[0.18, 0.77, 0.05])\n",
        "\n",
        "    # Add ethnicity (Sinhala, Tamil, Muslim, Other)\n",
        "    ethnicities = ['Sinhala', 'Tamil', 'Muslim', 'Other']\n",
        "    df['ethnicity'] = np.random.choice(ethnicities, size=len(df), p=[0.75, 0.11, 0.09, 0.05])\n",
        "\n",
        "    # Add economic status (Low, Middle, High)\n",
        "    economic_status = ['Low', 'Middle', 'High']\n",
        "    df['economic_status'] = np.random.choice(economic_status, size=len(df), p=[0.45, 0.50, 0.05])\n",
        "\n",
        "    # Create academic risk target (G3 < 10 considered at-risk)\n",
        "    df['academic_risk'] = (df['G3'] < 10).astype(int)\n",
        "\n",
        "    # Feature selection\n",
        "    features = [\n",
        "        'age', 'Medu', 'Fedu', 'traveltime', 'studytime', 'failures',\n",
        "        'famrel', 'freetime', 'goout', 'Dalc', 'Walc', 'health', 'absences',\n",
        "        'G1', 'G2', 'region', 'ethnicity', 'economic_status'\n",
        "    ]\n",
        "\n",
        "    return df[features + ['academic_risk']]\n"
      ],
      "metadata": {
        "id": "YdLTyEIIpOdh"
      },
      "execution_count": 37,
      "outputs": []
    },
    {
      "cell_type": "code",
      "source": [
        "# Step 5: Data preprocessing pipeline\n",
        "def preprocess_data(df):\n",
        "    # Encode categorical features\n",
        "    categorical_cols = ['region', 'ethnicity', 'economic_status']\n",
        "    label_encoders = {}\n",
        "\n",
        "    for col in categorical_cols:\n",
        "        le = LabelEncoder()\n",
        "        df[col] = le.fit_transform(df[col])\n",
        "        label_encoders[col] = le\n",
        "\n",
        "    # Split data\n",
        "    X = df.drop('academic_risk', axis=1)\n",
        "    y = df['academic_risk']\n",
        "\n",
        "    # Train-test split\n",
        "    X_train, X_test, y_train, y_test = train_test_split(\n",
        "        X, y, test_size=0.2, random_state=42, stratify=y\n",
        "    )\n",
        "\n",
        "    # Scale numerical features\n",
        "    scaler = StandardScaler()\n",
        "    numerical_cols = X_train.select_dtypes(include=['int64', 'float64']).columns\n",
        "    X_train[numerical_cols] = scaler.fit_transform(X_train[numerical_cols])\n",
        "    X_test[numerical_cols] = scaler.transform(X_test[numerical_cols])\n",
        "\n",
        "    return X_train, X_test, y_train, y_test, scaler, label_encoders"
      ],
      "metadata": {
        "id": "7K_WUkRhpSdp"
      },
      "execution_count": 38,
      "outputs": []
    },
    {
      "cell_type": "code",
      "source": [
        "# Step 6: Model training and evaluation\n",
        "def train_and_evaluate_models(X_train, X_test, y_train, y_test):\n",
        "    models = {\n",
        "        \"Decision Tree\": DecisionTreeClassifier(random_state=42),\n",
        "        \"Random Forest\": RandomForestClassifier(random_state=42),\n",
        "        \"Logistic Regression\": LogisticRegression(random_state=42)\n",
        "    }\n",
        "\n",
        "    results = {}\n",
        "\n",
        "    for name, model in models.items():\n",
        "        model.fit(X_train, y_train)\n",
        "        y_pred = model.predict(X_test)\n",
        "\n",
        "        results[name] = {\n",
        "            \"accuracy\": accuracy_score(y_test, y_pred),\n",
        "            \"precision\": precision_score(y_test, y_pred),\n",
        "            \"recall\": recall_score(y_test, y_pred),\n",
        "            \"f1\": f1_score(y_test, y_pred),\n",
        "            \"confusion_matrix\": confusion_matrix(y_test, y_pred),\n",
        "            \"model\": model\n",
        "        }\n",
        "\n",
        "    return results"
      ],
      "metadata": {
        "id": "oBMqcQZkpXzp"
      },
      "execution_count": 39,
      "outputs": []
    },
    {
      "cell_type": "code",
      "source": [
        "# Step 7: Visualization and reporting\n",
        "def visualize_results(results, X_train):\n",
        "    # Performance comparison\n",
        "    metrics_df = pd.DataFrame()\n",
        "    for model, scores in results.items():\n",
        "        metrics_df = pd.concat([metrics_df, pd.DataFrame({\n",
        "            'Model': model,\n",
        "            'Accuracy': scores['accuracy'],\n",
        "            'Precision': scores['precision'],\n",
        "            'Recall': scores['recall'],\n",
        "            'F1-Score': scores['f1']\n",
        "        }, index=[0])], ignore_index=True)\n",
        "\n",
        "    print(\"\\nModel Performance Comparison:\")\n",
        "    print(metrics_df)\n",
        "\n",
        "    # Confusion matrix visualization\n",
        "    fig, axes = plt.subplots(1, 3, figsize=(18, 5))\n",
        "    for i, (model, scores) in enumerate(results.items()):\n",
        "        sns.heatmap(scores['confusion_matrix'], annot=True, fmt='d',\n",
        "                    cmap='Blues', ax=axes[i], cbar=False)\n",
        "        axes[i].set_title(f'{model} Confusion Matrix')\n",
        "        axes[i].set_xlabel('Predicted')\n",
        "        axes[i].set_ylabel('Actual')\n",
        "\n",
        "    plt.tight_layout()\n",
        "    plt.savefig('confusion_matrices.png')\n",
        "    plt.show()\n",
        "\n",
        "    # Feature importance for best model\n",
        "    best_model_name = max(results, key=lambda x: results[x]['f1'])\n",
        "    best_model = results[best_model_name]['model']\n",
        "\n",
        "    if hasattr(best_model, 'feature_importances_'):\n",
        "        feature_importance = pd.DataFrame({\n",
        "            'Feature': X_train.columns,\n",
        "            'Importance': best_model.feature_importances_\n",
        "        }).sort_values('Importance', ascending=False)\n",
        "\n",
        "        plt.figure(figsize=(10, 6))\n",
        "        sns.barplot(x='Importance', y='Feature', data=feature_importance.head(10))\n",
        "        plt.title('Top 10 Important Features')\n",
        "        plt.savefig('feature_importance.png')\n",
        "        plt.show()"
      ],
      "metadata": {
        "id": "OYs8lOfopaoQ"
      },
      "execution_count": 40,
      "outputs": []
    },
    {
      "cell_type": "code",
      "source": [
        "# Step 8: Main workflow\n",
        "def main():\n",
        "    print(\"Starting Academic Risk Prediction Project...\")\n",
        "    print(\"Loading and preprocessing data...\")\n",
        "    df = load_and_preprocess_data()\n",
        "\n",
        "    print(\"\\nEngineering Sri Lankan-specific features...\")\n",
        "    df = sri_lankan_feature_engineering(df)\n",
        "\n",
        "    print(\"\\nPreprocessing data for modeling...\")\n",
        "    X_train, X_test, y_train, y_test, scaler, label_encoders = preprocess_data(df)\n",
        "\n",
        "    print(\"\\nTraining and evaluating models...\")\n",
        "    results = train_and_evaluate_models(X_train, X_test, y_train, y_test)\n",
        "\n",
        "    print(\"\\nGenerating visualizations and reports...\")\n",
        "    visualize_results(results, X_train)\n",
        "\n",
        "    # Save best model and preprocessing artifacts\n",
        "    best_model_name = max(results, key=lambda x: results[x]['f1'])\n",
        "    best_model = results[best_model_name]['model']\n",
        "\n",
        "    print(f\"\\nSaving best model ({best_model_name}) and preprocessing artifacts...\")\n",
        "    dump(best_model, 'academic_risk_model.joblib')\n",
        "    dump(scaler, 'scaler.joblib')\n",
        "    dump(label_encoders, 'label_encoders.joblib')\n",
        "\n",
        "    print(\"\\nProject workflow completed successfully!\")\n",
        "\n",
        "if __name__ == \"__main__\":\n",
        "    main()"
      ],
      "metadata": {
        "colab": {
          "base_uri": "https://localhost:8080/",
          "height": 1000
        },
        "id": "lO-DyJ7fpiyC",
        "outputId": "142cd06e-3554-48b6-a8b0-0b86fdafc7b3"
      },
      "execution_count": 41,
      "outputs": [
        {
          "output_type": "stream",
          "name": "stdout",
          "text": [
            "Starting Academic Risk Prediction Project...\n",
            "Loading and preprocessing data...\n",
            "--2025-07-20 14:57:40--  https://archive.ics.uci.edu/ml/machine-learning-databases/00320/student.zip\n",
            "Resolving archive.ics.uci.edu (archive.ics.uci.edu)... 128.195.10.252\n",
            "Connecting to archive.ics.uci.edu (archive.ics.uci.edu)|128.195.10.252|:443... connected.\n",
            "HTTP request sent, awaiting response... 200 OK\n",
            "Length: unspecified\n",
            "Saving to: ‘student.zip’\n",
            "\n",
            "student.zip             [ <=>                ]  20.00K  --.-KB/s    in 0.008s  \n",
            "\n",
            "2025-07-20 14:57:40 (2.41 MB/s) - ‘student.zip’ saved [20478]\n",
            "\n",
            "Archive:  student.zip\n",
            "  inflating: student-mat.csv         \n",
            "  inflating: student-por.csv         \n",
            "  inflating: student-merge.R         \n",
            "  inflating: student.txt             \n",
            "\n",
            "Engineering Sri Lankan-specific features...\n",
            "\n",
            "Preprocessing data for modeling...\n",
            "\n",
            "Training and evaluating models...\n",
            "\n",
            "Generating visualizations and reports...\n",
            "\n",
            "Model Performance Comparison:\n",
            "                 Model  Accuracy  Precision    Recall  F1-Score\n",
            "0        Decision Tree  0.870813   0.693878  0.739130  0.715789\n",
            "1        Random Forest  0.923445   0.812500  0.847826  0.829787\n",
            "2  Logistic Regression  0.918660   0.822222  0.804348  0.813187\n"
          ]
        },
        {
          "output_type": "display_data",
          "data": {
            "text/plain": [
              "<Figure size 1800x500 with 3 Axes>"
            ],
            "image/png": "[encoded data removed]"
          },
          "metadata": {}
        },
        {
          "output_type": "display_data",
          "data": {
            "text/plain": [
              "<Figure size 1000x600 with 1 Axes>"
            ],
            "image/png": "[encoded data removed]"
          },
          "metadata": {}
        },
        {
          "output_type": "stream",
          "name": "stdout",
          "text": [
            "\n",
            "Saving best model (Random Forest) and preprocessing artifacts...\n",
            "\n",
            "Project workflow completed successfully!\n"
          ]
        }
      ]
    },
    {
      "cell_type": "code",
      "source": [
        "# Step 9: Prepare Streamlit deployment template\n",
        "%%file app.py\n",
        "import streamlit as st\n",
        "import pandas as pd\n",
        "import joblib\n",
        "\n",
        "# Load artifacts\n",
        "model = joblib.load('academic_risk_model.joblib')\n",
        "scaler = joblib.load('scaler.joblib')\n",
        "label_encoders = joblib.load('label_encoders.joblib')\n",
        "\n",
        "# Streamlit app\n",
        "st.title('Academic Risk Prediction for Sri Lankan Students')\n",
        "st.write(\"\"\"\n",
        "This tool helps educators identify students at risk of academic failure\n",
        "based on their academic and demographic characteristics.\n",
        "\"\"\")\n",
        "\n",
        "# Input form\n",
        "st.sidebar.header('Student Information')\n",
        "\n",
        "def user_input_features():\n",
        "    age = st.sidebar.slider('Age', 15, 22, 16)\n",
        "    studytime = st.sidebar.select_slider('Weekly Study Time (hours)', [1, 2, 3, 4], 2)\n",
        "    absences = st.sidebar.slider('Absences (last quarter)', 0, 30, 5)\n",
        "    g1 = st.sidebar.slider('First Period Grade (G1)', 0, 20, 10)\n",
        "    g2 = st.sidebar.slider('Second Period Grade (G2)', 0, 20, 10)\n",
        "    region = st.sidebar.selectbox('Region', ['Urban', 'Rural', 'Estate'])\n",
        "    ethnicity = st.sidebar.selectbox('Ethnicity', ['Sinhala', 'Tamil', 'Muslim', 'Other'])\n",
        "    economic_status = st.sidebar.selectbox('Economic Status', ['Low', 'Middle', 'High'])\n",
        "\n",
        "    return pd.DataFrame({\n",
        "        'age': [age],\n",
        "        'studytime': [studytime],\n",
        "        'absences': [absences],\n",
        "        'G1': [g1],\n",
        "        'G2': [g2],\n",
        "        'region': [region],\n",
        "        'ethnicity': [ethnicity],\n",
        "        'economic_status': [economic_status]\n",
        "    })\n",
        "\n",
        "input_df = user_input_features()\n",
        "\n",
        "# Preprocess input\n",
        "def preprocess_input(df):\n",
        "    # Encode categorical features\n",
        "    for col in ['region', 'ethnicity', 'economic_status']:\n",
        "        le = label_encoders[col]\n",
        "        df[col] = le.transform(df[col])\n",
        "\n",
        "    # Add missing columns with default values\n",
        "    required_columns = ['age', 'Medu', 'Fedu', 'traveltime', 'studytime', 'failures',\n",
        "                       'famrel', 'freetime', 'goout', 'Dalc', 'Walc', 'health', 'absences',\n",
        "                       'G1', 'G2', 'region', 'ethnicity', 'economic_status']\n",
        "\n",
        "    for col in required_columns:\n",
        "        if col not in df.columns:\n",
        "            df[col] = 0  # Default value for missing features\n",
        "\n",
        "    # Scale features\n",
        "    df = pd.DataFrame(scaler.transform(df), columns=df.columns)\n",
        "    return df[required_columns]\n",
        "\n",
        "# Prediction\n",
        "if st.sidebar.button('Predict Academic Risk'):\n",
        "    processed_input = preprocess_input(input_df.copy())\n",
        "    prediction = model.predict(processed_input)\n",
        "    prediction_proba = model.predict_proba(processed_input)\n",
        "\n",
        "    st.subheader('Prediction')\n",
        "    risk_status = \"At Risk\" if prediction[0] == 1 else \"Not At Risk\"\n",
        "    st.write(f'Prediction: **{risk_status}**')\n",
        "    st.write(f'Probability of being at risk: {prediction_proba[0][1]:.2f}')\n",
        "\n",
        "    st.subheader('Interpretation')\n",
        "    if prediction[0] == 1:\n",
        "        st.warning('This student is predicted to be at academic risk. Consider interventions:')\n",
        "        st.write('- Additional tutoring sessions')\n",
        "        st.write('- Parent-teacher conference')\n",
        "        st.write('- Attendance monitoring')\n",
        "    else:\n",
        "        st.success('This student is not currently at significant academic risk')\n",
        "        st.write('Recommendations:')\n",
        "        st.write('- Continue regular monitoring')\n",
        "        st.write('- Maintain current support systems')\n",
        "\n",
        "# Show input data\n",
        "st.subheader('Student Data Summary')\n",
        "st.write(input_df)\n",
        "\n",
        "# How to run the Streamlit app\n",
        "st.sidebar.markdown(\"\"\"\n",
        "**How to Use:**\n",
        "1. Adjust student parameters using the sliders\n",
        "2. Click 'Predict Academic Risk'\n",
        "3. View results in the main panel\n",
        "\"\"\")"
      ],
      "metadata": {
        "id": "Cab3BCEnrVyJ",
        "colab": {
          "base_uri": "https://localhost:8080/"
        },
        "outputId": "5e93cf4b-f006-4469-bbd4-cd12923703ed"
      },
      "execution_count": 42,
      "outputs": [
        {
          "output_type": "stream",
          "name": "stdout",
          "text": [
            "Writing app.py\n"
          ]
        }
      ]
    },
    {
      "cell_type": "code",
      "source": [
        "# Step 9: Prepare Streamlit deployment template\n",
        "%%file app.py\n",
        "import streamlit as st\n",
        "import pandas as pd\n",
        "import joblib\n",
        "\n",
        "# Load artifacts\n",
        "model = joblib.load('academic_risk_model.joblib')\n",
        "scaler = joblib.load('scaler.joblib')\n",
        "label_encoders = joblib.load('label_encoders.joblib')\n",
        "\n",
        "# Streamlit app\n",
        "st.title('Academic Risk Prediction for Sri Lankan Students')\n",
        "st.write(\"\"\"\n",
        "This tool helps educators identify students at risk of academic failure\n",
        "based on their academic and demographic characteristics.\n",
        "\"\"\")\n",
        "\n",
        "# Input form\n",
        "st.sidebar.header('Student Information')\n",
        "\n",
        "def user_input_features():\n",
        "    age = st.sidebar.slider('Age', 15, 22, 16)\n",
        "    studytime = st.sidebar.select_slider('Weekly Study Time (hours)', [1, 2, 3, 4], 2)\n",
        "    absences = st.sidebar.slider('Absences (last quarter)', 0, 30, 5)\n",
        "    g1 = st.sidebar.slider('First Period Grade (G1)', 0, 20, 10)\n",
        "    g2 = st.sidebar.slider('Second Period Grade (G2)', 0, 20, 10)\n",
        "    region = st.sidebar.selectbox('Region', ['Urban', 'Rural', 'Estate'])\n",
        "    ethnicity = st.sidebar.selectbox('Ethnicity', ['Sinhala', 'Tamil', 'Muslim', 'Other'])\n",
        "    economic_status = st.sidebar.selectbox('Economic Status', ['Low', 'Middle', 'High'])\n",
        "\n",
        "    return pd.DataFrame({\n",
        "        'age': [age],\n",
        "        'studytime': [studytime],\n",
        "        'absences': [absences],\n",
        "        'G1': [g1],\n",
        "        'G2': [g2],\n",
        "        'region': [region],\n",
        "        'ethnicity': [ethnicity],\n",
        "        'economic_status': [economic_status]\n",
        "    })\n",
        "\n",
        "input_df = user_input_features()\n",
        "\n",
        "# Preprocess input\n",
        "def preprocess_input(df):\n",
        "    # Encode categorical features\n",
        "    for col in ['region', 'ethnicity', 'economic_status']:\n",
        "        le = label_encoders[col]\n",
        "        df[col] = le.transform(df[col])\n",
        "\n",
        "    # Add missing columns with default values and ensure correct order\n",
        "    required_columns = ['age', 'Medu', 'Fedu', 'traveltime', 'studytime', 'failures',\n",
        "                       'famrel', 'freetime', 'goout', 'Dalc', 'Walc', 'health', 'absences',\n",
        "                       'G1', 'G2', 'region', 'ethnicity', 'economic_status']\n",
        "\n",
        "    for col in required_columns:\n",
        "        if col not in df.columns:\n",
        "            df[col] = 0  # Default value for missing features\n",
        "\n",
        "    # Ensure the order of columns matches the training data\n",
        "    df = df[required_columns]\n",
        "\n",
        "    # Scale features\n",
        "    df = pd.DataFrame(scaler.transform(df), columns=df.columns)\n",
        "    return df[required_columns]\n",
        "\n",
        "# Prediction\n",
        "if st.sidebar.button('Predict Academic Risk'):\n",
        "    processed_input = preprocess_input(input_df.copy())\n",
        "    prediction = model.predict(processed_input)\n",
        "    prediction_proba = model.predict_proba(processed_input)\n",
        "\n",
        "    st.subheader('Prediction')\n",
        "    risk_status = \"At Risk\" if prediction[0] == 1 else \"Not At Risk\"\n",
        "    st.write(f'Prediction: **{risk_status}**')\n",
        "    st.write(f'Probability of being at risk: {prediction_proba[0][1]:.2f}')\n",
        "\n",
        "    st.subheader('Interpretation')\n",
        "    if prediction[0] == 1:\n",
        "        st.warning('This student is predicted to be at academic risk. Consider interventions:')\n",
        "        st.write('- Additional tutoring sessions')\n",
        "        st.write('- Parent-teacher conference')\n",
        "        st.write('- Attendance monitoring')\n",
        "    else:\n",
        "        st.success('This student is not currently at significant academic risk')\n",
        "        st.write('Recommendations:')\n",
        "        st.write('- Continue regular monitoring')\n",
        "        st.write('- Maintain current support systems')\n",
        "\n",
        "# Show input data\n",
        "st.subheader('Student Data Summary')\n",
        "st.write(input_df)\n",
        "\n",
        "# How to run the Streamlit app\n",
        "st.sidebar.markdown(\"\"\"\n",
        "**How to Use:**\n",
        "1. Adjust student parameters using the sliders\n",
        "2. Click 'Predict Academic Risk'\n",
        "3. View results in the main panel\n",
        "\"\"\")"
      ],
      "metadata": {
        "id": "_Zr3MvkXrjR6",
        "colab": {
          "base_uri": "https://localhost:8080/"
        },
        "outputId": "cbdde9bc-722e-4304-8188-615b40e51e5c"
      },
      "execution_count": 43,
      "outputs": [
        {
          "output_type": "stream",
          "name": "stdout",
          "text": [
            "Overwriting app.py\n"
          ]
        }
      ]
    },
    {
      "cell_type": "code",
      "source": [
        "!ls"
      ],
      "metadata": {
        "colab": {
          "base_uri": "https://localhost:8080/"
        },
        "id": "i8JCbEfmslxK",
        "outputId": "2ba71091-4c44-4c9a-8fe5-222ce6575401"
      },
      "execution_count": 44,
      "outputs": [
        {
          "output_type": "stream",
          "name": "stdout",
          "text": [
            "academic_risk_model.joblib  label_encoders.joblib  student-por.csv\n",
            "app.py\t\t\t    scaler.joblib\t   student.txt\n",
            "confusion_matrices.png\t    student-mat.csv\t   student.zip\n",
            "feature_importance.png\t    student-merge.R\n"
          ]
        }
      ]
    },
    {
      "cell_type": "code",
      "source": [
        "!pip install streamlit pyngrok --quiet"
      ],
      "metadata": {
        "id": "YxYJHV8asvG6"
      },
      "execution_count": 45,
      "outputs": []
    },
    {
      "cell_type": "code",
      "source": [
        "import os\n",
        "\n",
        "# Set ngrok token here (recommended: copy from ngrok dashboard and paste when prompted)\n",
        "os.environ[\"NGROK_AUTH_TOKEN\"] = input(\"Enter your NGROK Auth Token: \")"
      ],
      "metadata": {
        "colab": {
          "base_uri": "https://localhost:8080/"
        },
        "collapsed": true,
        "id": "701LjP06NCEi",
        "outputId": "b26b5c3f-c0e4-48c4-a99b-52cb8507f87a"
      },
      "execution_count": 46,
      "outputs": [
        {
          "name": "stdout",
          "output_type": "stream",
          "text": [
            "Enter your NGROK Auth Token: 303goQ9AshR3mCXm4FoxIjgvvLg_YjGJVDo3hCNuzoNL6PwP\n"
          ]
        }
      ]
    },
    {
      "cell_type": "code",
      "source": [
        "from pyngrok import ngrok\n",
        "import os\n",
        "\n",
        "# Set your token securely (user must provide it)\n",
        "NGROK_AUTH_TOKEN = os.getenv(\"NGROK_AUTH_TOKEN\")\n",
        "\n",
        "if not NGROK_AUTH_TOKEN:\n",
        "    raise ValueError(\"Please set your NGROK_AUTH_TOKEN using os.environ or input before running this cell.\")\n",
        "\n",
        "# Authenticate ngrok\n",
        "ngrok.set_auth_token(NGROK_AUTH_TOKEN)\n",
        "\n",
        "# Kill any existing tunnels\n",
        "ngrok.kill()\n",
        "\n",
        "# Open a tunnel on port 8501\n",
        "public_url = ngrok.connect(8501)\n",
        "print(f\"🌐 Your Streamlit app is available at: {public_url}\")\n",
        "\n",
        "# Run Streamlit app\n",
        "!streamlit run app.py &\n"
      ],
      "metadata": {
        "colab": {
          "base_uri": "https://localhost:8080/"
        },
        "id": "5GRg6EHCs0Sp",
        "outputId": "2bcae63b-510f-400f-e74c-f5b432212751"
      },
      "execution_count": 48,
      "outputs": [
        {
          "output_type": "stream",
          "name": "stdout",
          "text": [
            "🌐 Your Streamlit app is available at: NgrokTunnel: \"https://983b31fdcb7a.ngrok-free.app\" -> \"http://localhost:8501\"\n",
            "\n",
            "Collecting usage statistics. To deactivate, set browser.gatherUsageStats to false.\n",
            "\u001b[0m\n",
            "\u001b[0m\n",
            "\u001b[34m\u001b[1m  You can now view your Streamlit app in your browser.\u001b[0m\n",
            "\u001b[0m\n",
            "\u001b[34m  Local URL: \u001b[0m\u001b[1mhttp://localhost:8501\u001b[0m\n",
            "\u001b[34m  Network URL: \u001b[0m\u001b[1mhttp://172.28.0.12:8501\u001b[0m\n",
            "\u001b[34m  External URL: \u001b[0m\u001b[1mhttp://34.16.227.60:8501\u001b[0m\n",
            "\u001b[0m\n"
          ]
        },
        {
          "output_type": "stream",
          "name": "stderr",
          "text": [
            "WARNING:pyngrok.process.ngrok:t=2025-07-20T15:02:14+0000 lvl=warn msg=\"Stopping forwarder\" name=http-8501-e301d0cc-0874-466f-a77a-0d67130586b5 acceptErr=\"failed to accept connection: Listener closed\"\n",
            "WARNING:pyngrok.process.ngrok:t=2025-07-20T15:02:14+0000 lvl=warn msg=\"Error restarting forwarder\" name=http-8501-e301d0cc-0874-466f-a77a-0d67130586b5 err=\"failed to start tunnel: session closed\"\n"
          ]
        },
        {
          "output_type": "stream",
          "name": "stdout",
          "text": [
            "\u001b[34m  Stopping...\u001b[0m\n"
          ]
        }
      ]
    }
  ]
}